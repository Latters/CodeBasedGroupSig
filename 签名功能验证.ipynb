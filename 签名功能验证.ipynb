{
 "cells": [
  {
   "cell_type": "code",
   "execution_count": 24,
   "metadata": {},
   "outputs": [],
   "source": [
    "from sage.all import *\n",
    "import sys\n",
    "import hashlib\n",
    "import random\n",
    "import math\n",
    "from itertools import chain"
   ]
  },
  {
   "cell_type": "code",
   "execution_count": 13,
   "metadata": {},
   "outputs": [],
   "source": [
    "key_id = '0'\n",
    "data_path = './data/'\n",
    "key_suffix = '80' + '_' + key_id\n",
    "# gmsk = load(data_path + 'sk' + key_suffix)\n",
    "pk = load(data_path + 'pk')\n",
    "sig = load(data_path + 'sig' + key_suffix)"
   ]
  },
  {
   "cell_type": "code",
   "execution_count": null,
   "metadata": {},
   "outputs": [],
   "source": [
    "show(pk)"
   ]
  },
  {
   "cell_type": "code",
   "execution_count": 30,
   "metadata": {},
   "outputs": [],
   "source": [
    "lib_path = './lib/'\n",
    "load(lib_path + 'common.sage')\n",
    "load(lib_path + 'goppacode.sage')\n",
    "load(lib_path + 'Join_Impl.sage')\n",
    "# load(lib_path + 'KeyPrepare.sage')"
   ]
  },
  {
   "cell_type": "code",
   "execution_count": null,
   "metadata": {},
   "outputs": [],
   "source": [
    "# gpk,gsk = Join(U,B,A,S_A,P_A,H_Goppa,g1,X,SyndromeCalculator,L,2048,170,0.01,1)"
   ]
  },
  {
   "cell_type": "code",
   "execution_count": 26,
   "metadata": {},
   "outputs": [],
   "source": [
    "key_id = '0'\n",
    "data_path = './data/'\n",
    "key_suffix = '80' + '_' + key_id\n",
    "\n",
    "\n",
    "gpk = load(data_path + 'gpk'+ key_suffix)\n",
    "gsk = load(data_path + 'gsk'+ key_suffix)"
   ]
  },
  {
   "cell_type": "code",
   "execution_count": 8,
   "metadata": {},
   "outputs": [],
   "source": [
    "import math\n",
    "\n",
    "def my_log2(p):\n",
    "    return math.log(p)/math.log(2)\n",
    "\n",
    "def log_comb(n, k):\n",
    "    if not hasattr(log_comb, 'dict'):\n",
    "        log_comb.dict = dict()\n",
    "    my_dict = log_comb.dict\n",
    "    vlu = my_dict.get((n,k), -1)\n",
    "    if vlu < 0:\n",
    "        my_dict[(n,k)]=vlu=sum([my_log2(n-j)-my_log2(j+1) for j in range(k)])\n",
    "    return vlu\n",
    "\n",
    "def compute_truncate_pr(n, p, lb, ub):\n",
    "    '''\n",
    "    Compute sum_{lb<=j<=ub}binom{n}{j}p^j (1-p)^{n-j}\n",
    "    '''\n",
    "    return sum([2**(log_comb(n, j)+j*my_log2(p)+(n-j)*my_log2(1-p)) for j in range(lb, ub+1)])\n",
    "\n",
    "def compute_rejection_sampling_pr(n, p, s, t):\n",
    "    '''\n",
    "    Compute the ratio of binomial distribution over shifted binomial distribution.\n",
    "    '''\n",
    "    log_comb_n_s = log_comb(n, s)\n",
    "    return 1/sum([2**(log_comb(t, j)+log_comb(n-t, s-j)-log_comb_n_s+(s-2*j)*my_log2(p)+(2*j-s)*my_log2(1-p)) for j in range(s+1)])\n",
    "\n",
    "\n",
    "def rejection_sampling_rate(N, s, tau, Xi):\n",
    "    rate_dict = dict()\n",
    "\n",
    "    lb = int(N*tau)-Xi; ub = int(N*tau)+Xi\n",
    "\n",
    "    # denominator of truncated binomial distribution density function\n",
    "    dem_trun_pr = compute_truncate_pr(N, tau, lb, ub)\n",
    "    for t in range(lb, ub+1):\n",
    "        # compute the rejection rate for t\n",
    "        rejection_sampling_pr = compute_rejection_sampling_pr(N,tau,s,t)/dem_trun_pr\n",
    "        rate_dict[t] = rejection_sampling_pr\n",
    "    M = max(rate_dict.values())\n",
    "    return rate_dict, M"
   ]
  },
  {
   "cell_type": "code",
   "execution_count": 9,
   "metadata": {},
   "outputs": [],
   "source": [
    "def hash_function_1(n, y,msg,field):\n",
    "    r = int(hashlib.sha512((str(y)+msg).encode('utf-8')).hexdigest(), base=16)\n",
    "#     s = set()\n",
    "    lst = n*[0]\n",
    "    lst = vector(field,lst)\n",
    "    while r != 0:\n",
    "        ele = r%n\n",
    "        r = r//n\n",
    "        lst[ele] = lst[ele] + 1\n",
    "    return lst\n"
   ]
  },
  {
   "cell_type": "code",
   "execution_count": 10,
   "metadata": {},
   "outputs": [],
   "source": [
    "def hash_function_2(n, w, t, y, msg, field):\n",
    "    r = int(hashlib.sha512((str(t)+str(y)+msg).encode('utf-8')).hexdigest(), base=16)\n",
    "    s = set()\n",
    "    while len(s) < w and r != 0:\n",
    "        s.add(r%n)\n",
    "        r = r//n\n",
    "    if len(s) >= w:\n",
    "        lst = n*[0]\n",
    "        for ele in s:\n",
    "            lst[ele] = 1\n",
    "        lst = vector(field,lst)\n",
    "        return lst\n",
    "    else:\n",
    "        print ('Error in hash function')\n"
   ]
  },
  {
   "cell_type": "code",
   "execution_count": 46,
   "metadata": {},
   "outputs": [],
   "source": [
    "def sign( msg,n,k,l, w,sigma_1,sigma_2, tau,xi,pk,gsk,field):\n",
    "#     random.seed(msg)\n",
    "    X_i1 = gsk[0]\n",
    "    X_i2 = gsk[1]\n",
    "#     U = pk[0]\n",
    "    B = pk[1]\n",
    "    A = pk[2]\n",
    "    G_pub = pk[3]\n",
    "    \n",
    "#     R=PolynomialRing(GF(2), 'x', implementation='NTL');x=R.gen();S=R.quotient(x^n-1, 'a');a = S.gen()\n",
    "#     h = S(pk)\n",
    "#     s1_lst, s2_lst = sk\n",
    "#     s1 = S(s1_lst); s2 = S(s2_lst)\n",
    "    counter = 0\n",
    "    eta_1 = 0.5 * (1-(1-2*sigma_1)**w)\n",
    "    eta_2 = 0.5 * (1-(1-2*sigma_2)**w)\n",
    "    zeta_1 = tau + eta_1 - 2 * tau * eta_1\n",
    "    zeta_2 = tau + eta_2 - 2 * tau * eta_2\n",
    "    a_1 = n * zeta_1 - xi\n",
    "    b_1 = n * zeta_1 + xi\n",
    "    a_2 = n * zeta_2 - xi\n",
    "    b_2 = n * zeta_2 + xi\n",
    "    print(a_1,b_1,a_2,b_2)\n",
    "    while True:\n",
    "        counter = counter + 1\n",
    "#         if counter > 5000:\n",
    "#             print ('Run signing too many times')\n",
    "        \n",
    "        e1 = gen_binom_vec(n, tau,field)\n",
    "        e2 = gen_binom_vec(n, tau,field)\n",
    "        y1 = e1 * B.transpose()\n",
    "        y2 = e1 * B.transpose() + e2 * A.transpose()\n",
    "        c1 = hash_function_1(l, y1, msg,field)\n",
    "        r  = random_word(k - l, field)\n",
    "        err = random_error(n, 32, field)\n",
    "        t = vector(chain(r,c1)) * G_pub + err\n",
    "        c2 = hash_function_2(l,w,t, y2, msg,field)\n",
    "        z1 = e1 + c2 * X_i1.transpose()\n",
    "        z2 = e2 + c2 * X_i2.transpose()\n",
    "        wt_z1 = get_weight(z1)\n",
    "        wt_z2 = get_weight(z2)\n",
    "#         print(wt_z1,wt_z2)\n",
    " \n",
    "        \n",
    "        # compute rejection rate\n",
    "        rate_dict1, M1 = rejection_sampling_rate(n, get_weight(c2 * X_i1.transpose()), zeta_1, xi)\n",
    "        rate_dict2, M2 = rejection_sampling_rate(n, get_weight(c2 * X_i2.transpose()), zeta_2, xi)\n",
    "        \n",
    "\n",
    "        if wt_z1 < int(a_1) or wt_z1 > int(b_1) or wt_z2 < int(a_2) or wt_z2 > int(b_2):\n",
    "            continue\n",
    "\n",
    "        if random.random() < rate_dict1[wt_z1]/M1 and random.random() < rate_dict2[wt_z2]/M2:\n",
    "            print(counter)\n",
    "            return (t, y2, z1, z2, msg)\n"
   ]
  },
  {
   "cell_type": "code",
   "execution_count": 37,
   "metadata": {},
   "outputs": [],
   "source": [
    "n = 2048\n",
    "k = 1696\n",
    "l = 170\n",
    "sigma_1 = 0.009\n",
    "sigma_2 = 0.013\n",
    "w = 17\n",
    "xi = 20\n",
    "r = 1696\n",
    "m = 2048\n",
    "tau = 0.09\n",
    "\n",
    "\n",
    "# U = pk[0]\n",
    "# B = pk[1]\n",
    "# A = pk[2]\n",
    "# G_pub = pk[3]\n",
    "eta_1 = 0.5 * (1-(1-2*sigma_1)**w)\n",
    "eta_2 = 0.5 * (1-(1-2*sigma_2)**w)\n",
    "zeta_1 = tau + eta_1 - 2 * tau * eta_1\n",
    "zeta_2 = tau + eta_2 - 2 * tau * eta_2\n",
    "a_1 = n * zeta_1 - xi\n",
    "b_1 = n * zeta_1 + xi\n",
    "a_2 = n * zeta_2 - xi\n",
    "b_2 = n * zeta_2 + xi"
   ]
  },
  {
   "cell_type": "code",
   "execution_count": 39,
   "metadata": {},
   "outputs": [],
   "source": [
    "def gen_binom_vec(nn, tau, field):\n",
    "    v= [1 if random.random()<tau else 0 for _ in range(nn)]\n",
    "    v = vector(field,v)\n",
    "    return v"
   ]
  },
  {
   "cell_type": "code",
   "execution_count": null,
   "metadata": {},
   "outputs": [],
   "source": [
    "msg = 'INK'\n",
    "sig = sign(msg,n,k,l,w,sigma_1,sigma_2,tau,xi,pk,gsk,GF(2))"
   ]
  },
  {
   "cell_type": "code",
   "execution_count": null,
   "metadata": {},
   "outputs": [],
   "source": [
    "show(sig[0])"
   ]
  },
  {
   "cell_type": "code",
   "execution_count": null,
   "metadata": {},
   "outputs": [],
   "source": [
    "# print(getsize(A.str()))\n",
    "# print(getsize(A.list()))"
   ]
  },
  {
   "cell_type": "code",
   "execution_count": null,
   "metadata": {},
   "outputs": [],
   "source": [
    "print(get_weight(sig[2]))"
   ]
  },
  {
   "cell_type": "code",
   "execution_count": null,
   "metadata": {},
   "outputs": [],
   "source": [
    "# print(len(vecmat))"
   ]
  },
  {
   "cell_type": "code",
   "execution_count": null,
   "metadata": {},
   "outputs": [],
   "source": [
    "key_id = '0'\n",
    "data_path = './data/'\n",
    "key_suffix = '80' + '_' + key_id\n",
    "\n",
    "\n",
    "filename = data_path + 'sig' + key_suffix\n",
    "print('secret key saved in file ' + filename + '.sobj')\n",
    "save(sig, filename)\n"
   ]
  },
  {
   "cell_type": "code",
   "execution_count": 6,
   "metadata": {},
   "outputs": [],
   "source": [
    "def verify(sig,pk,n,k,l,w,sigma_1,sigma_2,tau,xi,field):\n",
    "    t = sig[0]\n",
    "    y2 = sig[1]\n",
    "    z1 = sig[2]\n",
    "    z2 = sig[3]\n",
    "    msg = sig[4]\n",
    "    U = pk[0]\n",
    "    B = pk[1]\n",
    "    A = pk[2]\n",
    "    eta_1 = 0.5 * (1-(1-2*sigma_1)**w)\n",
    "    eta_2 = 0.5 * (1-(1-2*sigma_2)**w)\n",
    "    zeta_1 = tau + eta_1 - 2 * tau * eta_1\n",
    "    zeta_2 = tau + eta_2 - 2 * tau * eta_2\n",
    "    a_1 = n * zeta_1 - xi\n",
    "    b_1 = n * zeta_1 + xi\n",
    "    a_2 = n * zeta_2 - xi\n",
    "    b_2 = n * zeta_2 + xi\n",
    "    \n",
    "#     y2 = vector(field,y2)\n",
    "    c2 = hash_function_2(l,w,t, y2, msg,field)\n",
    "    y2_prime = z1 * B.transpose() + z2 * A.transpose() - c2 * U.transpose()\n",
    "#     y2_prime = vector(field,y2_prime)\n",
    "    c2_prime = hash_function_2(l,w,t, y2_prime, msg,field)\n",
    "    \n",
    "    wt_z1 = get_weight(z1)\n",
    "    wt_z2 = get_weight(z2)\n",
    "#     print(y2_prime == y2)\n",
    "#     print(c2_prime != c2)\n",
    "    if wt_z1 < int(a_1) or wt_z1 > int(b_1) or wt_z2 < int(a_2) or wt_z2 > int(b_2) or c2_prime != c2:\n",
    "        return 0\n",
    "    \n",
    "    return 1\n",
    "    "
   ]
  },
  {
   "cell_type": "code",
   "execution_count": 14,
   "metadata": {},
   "outputs": [
    {
     "name": "stdout",
     "output_type": "stream",
     "text": [
      "0\n"
     ]
    }
   ],
   "source": [
    "print(verify(sig,pk,n,k,l,w,sigma_1,sigma_2,tau,xi,GF(2)))"
   ]
  },
  {
   "cell_type": "code",
   "execution_count": 17,
   "metadata": {},
   "outputs": [],
   "source": [
    "N = 64"
   ]
  },
  {
   "cell_type": "code",
   "execution_count": 18,
   "metadata": {},
   "outputs": [],
   "source": [
    "user_i = randint(0,N-1)"
   ]
  },
  {
   "cell_type": "code",
   "execution_count": 19,
   "metadata": {},
   "outputs": [
    {
     "data": {
      "text/plain": [
       "15"
      ]
     },
     "execution_count": 19,
     "metadata": {},
     "output_type": "execute_result"
    }
   ],
   "source": [
    "user_i"
   ]
  },
  {
   "cell_type": "code",
   "execution_count": 32,
   "metadata": {},
   "outputs": [],
   "source": [
    "key_id = '0'\n",
    "data_path = './data/'\n",
    "key_suffix = '80' + '_' + key_id\n",
    "\n",
    "\n",
    "gpklst = load(data_path + 'gpklst'+ key_suffix)\n",
    "gsklst = load(data_path + 'gsklst'+ key_suffix)"
   ]
  },
  {
   "cell_type": "code",
   "execution_count": 33,
   "metadata": {},
   "outputs": [],
   "source": [
    "gpk_i = gpklst[user_i]\n",
    "gsk_i = gsklst[user_i]"
   ]
  },
  {
   "cell_type": "code",
   "execution_count": 44,
   "metadata": {},
   "outputs": [],
   "source": [
    "import random\n",
    "import time"
   ]
  },
  {
   "cell_type": "code",
   "execution_count": 47,
   "metadata": {},
   "outputs": [
    {
     "name": "stdout",
     "output_type": "stream",
     "text": [
      "387.3920761746913 427.3920761746913 467.4427395015503 507.4427395015503\n",
      "97\n",
      "签名生成程序运行时间为： 32.157705545425415 秒\n"
     ]
    }
   ],
   "source": [
    "msg = 'INK'\n",
    "start = time.time()\n",
    "sig_i = sign(msg,n,k,l,w,sigma_1,sigma_2,tau,xi,pk,gsk_i,GF(2))\n",
    "end = time.time()\n",
    "print('签名生成程序运行时间为：', end - start, '秒')"
   ]
  },
  {
   "cell_type": "code",
   "execution_count": 48,
   "metadata": {},
   "outputs": [
    {
     "name": "stdout",
     "output_type": "stream",
     "text": [
      "1\n",
      "签名验证程序运行时间为： 0.05981779098510742 秒\n"
     ]
    }
   ],
   "source": [
    "start = time.time()\n",
    "print(verify(sig_i,pk,n,k,l,w,sigma_1,sigma_2,tau,xi,GF(2)))\n",
    "end = time.time()\n",
    "print('签名验证程序运行时间为：', end - start, '秒')"
   ]
  },
  {
   "cell_type": "code",
   "execution_count": 49,
   "metadata": {},
   "outputs": [],
   "source": [
    "key_id = '0'\n",
    "data_path = './data/'\n",
    "key_suffix = '80' + '_' + key_id\n",
    "gmsk = load(data_path + 'sk' + key_suffix)\n",
    "# pk = load(data_path + 'pk')"
   ]
  },
  {
   "cell_type": "code",
   "execution_count": 51,
   "metadata": {},
   "outputs": [],
   "source": [
    "S = gmsk[5]\n",
    "P = gmsk[6]\n",
    "b = gmsk[7]\n",
    "g = gmsk[8]\n",
    "\n",
    "G_pub = pk[3]\n",
    "G_Goppa = S.inverse() * G_pub * P.transpose()"
   ]
  },
  {
   "cell_type": "code",
   "execution_count": 52,
   "metadata": {},
   "outputs": [],
   "source": [
    "r = 1696\n",
    "m = 2048\n",
    "n = 2048\n",
    "t = 32\n",
    "#     show(U)\n",
    "#     show(B)\n",
    "#     show(A)\n",
    "#     show(g1)\n",
    "\n",
    "F = b.parent()\n",
    "PR = g.parent()\n",
    "Y = PR.gen()\n",
    "K_ = GF(2)\n",
    "L = [F(b**i) for i in range(2048)]\n",
    "SyndromeCalculator = matrix(PR, 1, len(L));\n",
    "for i in range(len(L)):\n",
    "    SyndromeCalculator[0, i] = (Y - L[i]).inverse_mod(g);\n",
    "\n",
    "\n"
   ]
  },
  {
   "cell_type": "code",
   "execution_count": 53,
   "metadata": {},
   "outputs": [],
   "source": [
    "def openSig(sig,pk,gpklst,g,X,SyndromeCalculator,L,G_Goppa,S,P,l,w,N,field):  \n",
    "    t = sig[0]\n",
    "    y2 = sig[1]\n",
    "    z1 = sig[2]\n",
    "    z2 = sig[3]\n",
    "    msg = sig[4]\n",
    "    B = pk[1]\n",
    "    \n",
    "    word = t * P.transpose()\n",
    "    word_mat = matrix(K_,word)\n",
    "#         yd = decodePatterson(word_mat,g1,X,SyndromeCalculator,L)\n",
    "    word_prime = decodePatterson(word_mat,g,X,SyndromeCalculator,L)\n",
    "    word_prime = vector(K_,word_prime.list())\n",
    "    m = G_Goppa.solve_left(word_prime)\n",
    "    m = m * S.inverse()\n",
    "    \n",
    "    c1 = m[1696-170:]\n",
    "    c1 = vector(field,c1)\n",
    "    c2 = hash_function_2(l,w,t, y2, msg,field)\n",
    "    \n",
    "    for i in range(N):\n",
    "        G_i = gpklst[i]\n",
    "        if c1 == hash_function_1(l,z1*B.transpose()-c2*G_i.transpose(), msg,field):\n",
    "            return i\n",
    "    \n",
    "    return -1\n",
    "    \n",
    "    \n",
    "    "
   ]
  },
  {
   "cell_type": "code",
   "execution_count": 57,
   "metadata": {},
   "outputs": [
    {
     "name": "stdout",
     "output_type": "stream",
     "text": [
      "签名成员身份打开程序运行时间为： 1.1083929538726807 秒\n"
     ]
    }
   ],
   "source": [
    "N = 2 ** 6\n",
    "start = time.time()\n",
    "openSig(sig_i,pk,gpklst,g,Y,SyndromeCalculator,L,G_Goppa,S,P,l,w,N,GF(2))\n",
    "end = time.time()\n",
    "print('签名成员身份打开程序运行时间为：', end - start, '秒')"
   ]
  },
  {
   "cell_type": "code",
   "execution_count": null,
   "metadata": {},
   "outputs": [],
   "source": []
  },
  {
   "cell_type": "code",
   "execution_count": null,
   "metadata": {},
   "outputs": [],
   "source": []
  }
 ],
 "metadata": {
  "kernelspec": {
   "display_name": "Python 3",
   "language": "python",
   "name": "python3"
  },
  "language_info": {
   "codemirror_mode": {
    "name": "ipython",
    "version": 3
   },
   "file_extension": ".py",
   "mimetype": "text/x-python",
   "name": "python",
   "nbconvert_exporter": "python",
   "pygments_lexer": "ipython3",
   "version": "3.7.10"
  }
 },
 "nbformat": 4,
 "nbformat_minor": 4
}
